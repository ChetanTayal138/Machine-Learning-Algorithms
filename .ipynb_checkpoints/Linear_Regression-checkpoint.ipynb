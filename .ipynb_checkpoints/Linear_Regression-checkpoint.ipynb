{
 "cells": [
  {
   "cell_type": "code",
   "execution_count": 1,
   "metadata": {},
   "outputs": [],
   "source": [
    "import numpy as np \n",
    "import matplotlib.pyplot as plt"
   ]
  },
  {
   "cell_type": "code",
   "execution_count": 71,
   "metadata": {},
   "outputs": [],
   "source": [
    "class LinearRegression:\n",
    "    \n",
    "    def __init__(self,csv_file):\n",
    "        data = np.loadtxt(csv_file , delimiter = ',')\n",
    "        self.y = data[: , -1]\n",
    "        X = data[: , :-1]\n",
    "        self.X = np.insert(X,0,values = np.ones(X.shape[0]) , axis =1) \n",
    "        \n",
    "    \n",
    "    def head(self,n):\n",
    "        print(\"Feature Data Is\")\n",
    "        print(self.X[:n,:])\n",
    "        print(\"Target Data Is\")\n",
    "        print(np.array(self.y[:n]))\n",
    "        \n",
    "        \n",
    "    def normalise(self):\n",
    "        mu = np.mean(self.X[:,1:] , axis = 0)\n",
    "        sigma = np.std(self.X[:,1:] , axis = 0)\n",
    "        X_norm = (self.X[:,1:]-mu)/sigma\n",
    "        X_norm = np.insert(X_norm,0,values = np.ones(self.X.shape[0]) , axis =1) \n",
    "        return mu,sigma,X_norm\n",
    "        \n",
    "        \n",
    "    def computeCost(self,theta):\n",
    "        \"\"\"m represents number of training examples\n",
    "           X is feature set with n features and is matrix of shape m*(n+1)\n",
    "           theta is parameter set of shape (n+1)*1\n",
    "           y is target data set of shape m*1\n",
    "           X*theta represents our predicted value \n",
    "           (X*theta-y)^2 is the squared error value\n",
    "           J is sum of all the squared errors over 2*m\n",
    "        \"\"\"\n",
    "        m = self.y.shape[0]\n",
    "        HTheta_X = np.dot(self.X,theta)\n",
    "        Error = HTheta_X-self.y\n",
    "        J = (np.sum(Error**2))/(2*m)\n",
    "        return J\n",
    "\n",
    "\n",
    "    \n",
    "    def gradientDescent(self,theta,alpha,iterations):\n",
    "        theta = theta.copy()\n",
    "        m = self.y.shape[0] \n",
    "        J_values = []\n",
    "\n",
    "        for num in range(iterations):\n",
    "            for j in range(theta.size):\n",
    "                Error = np.dot(self.X,theta)-self.y\n",
    "                Derivative = np.dot(Error, self.X[:,j])\n",
    "                theta[j] = theta[j] - (np.sum(Derivative))*(alpha/m)\n",
    "                \n",
    "            J_values.append(self.computeCost(theta))\n",
    "\n",
    "        return theta,J_values\n",
    "    \n",
    "    def predict_value(self,values,mu,sigma,theta):\n",
    "        values = (values-mu)/sigma\n",
    "        values = np.insert(values , 0 , np.ones(1) , axis = 0)\n",
    "        predict = np.dot(values,theta)\n",
    "        return predict"
   ]
  },
  {
   "cell_type": "code",
   "execution_count": 72,
   "metadata": {},
   "outputs": [],
   "source": [
    "LR = LinearRegression('ex1data2.txt')\n",
    "mu,sigma,LR.X = LR.normalise()"
   ]
  },
  {
   "cell_type": "code",
   "execution_count": 73,
   "metadata": {},
   "outputs": [],
   "source": [
    "theta, J_history = LR.gradientDescent(theta=np.zeros(LR.X.shape[1]), alpha=0.15, iterations=1000)"
   ]
  },
  {
   "cell_type": "code",
   "execution_count": 74,
   "metadata": {},
   "outputs": [
    {
     "data": {
      "text/plain": [
       "293081.464334896"
      ]
     },
     "execution_count": 74,
     "metadata": {},
     "output_type": "execute_result"
    }
   ],
   "source": [
    "LR.predict_value([1650,3] ,mu,sigma,theta)"
   ]
  },
  {
   "cell_type": "code",
   "execution_count": null,
   "metadata": {},
   "outputs": [],
   "source": []
  }
 ],
 "metadata": {
  "kernelspec": {
   "display_name": "Python 3",
   "language": "python",
   "name": "python3"
  },
  "language_info": {
   "codemirror_mode": {
    "name": "ipython",
    "version": 3
   },
   "file_extension": ".py",
   "mimetype": "text/x-python",
   "name": "python",
   "nbconvert_exporter": "python",
   "pygments_lexer": "ipython3",
   "version": "3.6.6"
  }
 },
 "nbformat": 4,
 "nbformat_minor": 2
}
